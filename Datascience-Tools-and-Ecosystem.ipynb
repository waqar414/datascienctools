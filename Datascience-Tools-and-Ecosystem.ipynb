{
 "cells": [
  {
   "cell_type": "markdown",
   "id": "5a4d987b-8c8d-41cf-8df4-28d24d00765e",
   "metadata": {},
   "source": [
    "# Data Science Tools ans Ecosystem"
   ]
  },
  {
   "cell_type": "raw",
   "id": "32496808-bdd1-4abf-b2dd-14c25e5e7e2a",
   "metadata": {},
   "source": [
    "in this section data science tools and ecosystem are summrized\n",
    "- Data Management\n",
    "- Data Intigration and transformation\n",
    "- Data Visiulization\n",
    "- Model Building\n",
    "- Model Deployment\n",
    "- Model Monitring ans Assesment"
   ]
  },
  {
   "cell_type": "markdown",
   "id": "c8cd554e-933f-4fc4-93ed-6db1b417c8f5",
   "metadata": {},
   "source": [
    "there is some popular languages for data science\n",
    "- Python\n",
    "- R\n",
    "- java\n",
    "- SQL\n",
    "- Sqala\n",
    "- Julia\n",
    "- c++\n",
    "- JavaScript\n",
    "- Go\n",
    "- Ruby \n",
    "- VB\n"
   ]
  },
  {
   "cell_type": "markdown",
   "id": "f6a96093-c162-465f-8efa-415fe3bd76dc",
   "metadata": {},
   "source": [
    "Popular Languages\n",
    "Pandas\n",
    "\n",
    "- Numpy\n",
    "\n",
    "- Matplotlib\n",
    "\n",
    "- Seaborn\n",
    "\n",
    "- Scikit-learn\n",
    "\n",
    "- Keras\n",
    "\n",
    "- TensorFlow\n",
    "\n",
    "- PyTorch\n",
    "\n",
    "- Apache Spark\n",
    "\n",
    "- Vegas\n",
    "\n",
    "- Big DL\n",
    "\n",
    "- Ggplot2"
   ]
  },
  {
   "cell_type": "markdown",
   "id": "aceb1ff5-0a95-4918-8353-f76e448a7d08",
   "metadata": {},
   "source": [
    "### Data science Tools"
   ]
  },
  {
   "cell_type": "markdown",
   "id": "87522884-d383-4ad0-918f-4b7ef11364be",
   "metadata": {},
   "source": [
    "- Anaconda\n",
    "- Jupyter Notebook\n",
    "- R Studio\n",
    "- Spyder\n",
    "- Zepplin"
   ]
  },
  {
   "cell_type": "markdown",
   "id": "65009f07-b3c3-4831-9282-526b9cbda30f",
   "metadata": {},
   "source": [
    "## Below are somw example of arthmetic oprator in data science"
   ]
  },
  {
   "cell_type": "code",
   "execution_count": 3,
   "id": "26d599c0-2e81-493a-9028-3d283d0a561e",
   "metadata": {
    "tags": []
   },
   "outputs": [
    {
     "name": "stdout",
     "output_type": "stream",
     "text": [
      "0.8333333333333334\n"
     ]
    }
   ],
   "source": [
    "# Divide\n",
    "num1=5\n",
    "num2=6\n",
    "print(num1/num2)"
   ]
  },
  {
   "cell_type": "code",
   "execution_count": 4,
   "id": "5881a904-cb65-4011-95c4-20b05f27b14c",
   "metadata": {
    "tags": []
   },
   "outputs": [
    {
     "name": "stdout",
     "output_type": "stream",
     "text": [
      "30\n"
     ]
    }
   ],
   "source": [
    "# Multiply\n",
    "num1=5\n",
    "num2=6\n",
    "print(num1*num2)"
   ]
  },
  {
   "cell_type": "code",
   "execution_count": 2,
   "id": "fbc106b2-ab1c-4e45-85d6-1abfcfb1ae80",
   "metadata": {
    "tags": []
   },
   "outputs": [
    {
     "name": "stdout",
     "output_type": "stream",
     "text": [
      "11\n"
     ]
    }
   ],
   "source": [
    "# Addition\n",
    "num1=5\n",
    "num2=6\n",
    "print(num1+num2)"
   ]
  },
  {
   "cell_type": "code",
   "execution_count": 5,
   "id": "f7326a30-d725-4b0d-9359-38cfcfec6799",
   "metadata": {
    "tags": []
   },
   "outputs": [
    {
     "name": "stdout",
     "output_type": "stream",
     "text": [
      "-1\n"
     ]
    }
   ],
   "source": [
    "# Substraction\n",
    "num1=5\n",
    "num2=6\n",
    "print(num1-num2)"
   ]
  },
  {
   "cell_type": "code",
   "execution_count": 7,
   "id": "b7af9bfe-f895-459a-9e58-019eb99e1289",
   "metadata": {
    "tags": []
   },
   "outputs": [
    {
     "data": {
      "text/plain": [
       "3.3333333333333335"
      ]
     },
     "execution_count": 7,
     "metadata": {},
     "output_type": "execute_result"
    }
   ],
   "source": [
    "# This will convert 200mint to hour\n",
    "200/60"
   ]
  },
  {
   "cell_type": "markdown",
   "id": "5bf18e8a-d32c-4dd0-b34d-e763d3aeefb6",
   "metadata": {},
   "source": [
    "All of the following criteria is fulfilled:\n",
    "\n",
    "- A new markdown cell is inserted below the introduction cell \n",
    "\n",
    "- It includes the title Objectives in bold font.\n",
    "\n",
    "- An unordered list which lists three or more objectives is included."
   ]
  },
  {
   "cell_type": "markdown",
   "id": "6514f24d-dd66-4c5f-a3a0-cfd9a112159c",
   "metadata": {},
   "source": [
    "### Author"
   ]
  },
  {
   "cell_type": "markdown",
   "id": "4202976b-799c-4d21-8cdd-2d55adf50b0f",
   "metadata": {},
   "source": [
    "#### Waqar Munawar"
   ]
  },
  {
   "cell_type": "code",
   "execution_count": null,
   "id": "5361eca7-b6ef-44fb-aa6d-461582698a63",
   "metadata": {},
   "outputs": [],
   "source": []
  }
 ],
 "metadata": {
  "kernelspec": {
   "display_name": "Python 3 (ipykernel)",
   "language": "python",
   "name": "python3"
  },
  "language_info": {
   "codemirror_mode": {
    "name": "ipython",
    "version": 3
   },
   "file_extension": ".py",
   "mimetype": "text/x-python",
   "name": "python",
   "nbconvert_exporter": "python",
   "pygments_lexer": "ipython3",
   "version": "3.11.0"
  }
 },
 "nbformat": 4,
 "nbformat_minor": 5
}
